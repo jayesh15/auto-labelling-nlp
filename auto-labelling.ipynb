{
 "cells": [
  {
   "cell_type": "code",
   "execution_count": 1,
   "id": "7fcfe595",
   "metadata": {},
   "outputs": [],
   "source": [
    "import nltk\n",
    "import pandas as pd\n",
    "import numpy as np\n",
    "from sklearn.feature_extraction.text import TfidfVectorizer\n",
    "from sklearn.metrics.pairwise import cosine_similarity\n",
    "from sklearn.cluster import KMeans\n",
    "from gensim.models import Word2Vec"
   ]
  },
  {
   "cell_type": "code",
   "execution_count": 2,
   "id": "d2062218",
   "metadata": {},
   "outputs": [],
   "source": [
    "# read the data\n",
    "df = pd.read_excel(r'C:\\College\\sem6\\NLP\\project\\preprocessed_text.xlsx')"
   ]
  },
  {
   "cell_type": "code",
   "execution_count": 3,
   "id": "cd3e3ca3",
   "metadata": {},
   "outputs": [],
   "source": [
    "def compute_tfidf_matrix(docs):\n",
    "    vectorizer = TfidfVectorizer()\n",
    "    \n",
    "    # Transform the input documents into a TF-IDF matrix\n",
    "    tfidf_matrix = vectorizer.fit_transform(docs)\n",
    "    \n",
    "    return tfidf_matrix"
   ]
  },
  {
   "cell_type": "code",
   "execution_count": 4,
   "id": "242ca0f9",
   "metadata": {},
   "outputs": [],
   "source": [
    "def compute_word_embeddings(docs, model):\n",
    "    \"\"\"\n",
    "    Compute the average word embeddings for a list of documents using a pre-trained word embedding model.\n",
    "    \"\"\"\n",
    "    \n",
    "    embeddings = []\n",
    "    \n",
    "    for doc in docs:\n",
    "        \n",
    "        # Tokenize the document into individual words using NLTK\n",
    "        words = nltk.word_tokenize(doc)\n",
    "        \n",
    "        # Extract word vectors from the pre-trained model for words that exist in the model's vocabulary. If valid vector then\n",
    "        # compute the average embedding for the document. If not valid then append a zero vector of the model's vector size\n",
    "        word_vectors = [model[word] for word in words if word in model]\n",
    "        if word_vectors:\n",
    "            embeddings.append(sum(word_vectors) / len(word_vectors))\n",
    "        else:\n",
    "            embeddings.append([0] * model.vector_size)\n",
    "            \n",
    "    return embeddings"
   ]
  },
  {
   "cell_type": "code",
   "execution_count": 5,
   "id": "dfed99d4",
   "metadata": {},
   "outputs": [],
   "source": [
    "def compute_cosine_similarity(matrix):\n",
    "    \"\"\"\n",
    "    Compute the cosine similarity matrix for a given input matrix.\n",
    "    \"\"\"\n",
    "    \n",
    "    similarity_matrix = cosine_similarity(matrix, matrix)\n",
    "    return similarity_matrix"
   ]
  },
  {
   "cell_type": "code",
   "execution_count": 6,
   "id": "cde7ed6c",
   "metadata": {},
   "outputs": [],
   "source": [
    "def apply_clustering(matrix, num_clusters):\n",
    "    \"\"\"\n",
    "    Applies KMeans clustering to the input matrix.\n",
    "    \"\"\"\n",
    "    \n",
    "    # Initialize KMeans\n",
    "    kmeans = KMeans(n_clusters=num_clusters, random_state=42)\n",
    "    \n",
    "    # predict the clusters for each data point\n",
    "    clusters = kmeans.fit_predict(matrix)\n",
    "    \n",
    "    return clusters"
   ]
  },
  {
   "cell_type": "code",
   "execution_count": 7,
   "id": "d7edce15",
   "metadata": {},
   "outputs": [],
   "source": [
    "def assign_categories(docs, clusters):\n",
    "    \n",
    "    # Create a DataFrame to store the document-text and assigned cluster\n",
    "    results = pd.DataFrame({'Document': docs, 'Cluster': clusters}) \n",
    "    category_mapping = {0:'ham', 1:'promotional', 2:'educational', 3:'financial', 4:'job', 5:'account verification', \n",
    "                        6:'shopping', 7:'rate experience', 8:'miscellaneous'}\n",
    "    \n",
    "    # Map the clusters to their corresponding categories and create a new 'Category' column\n",
    "    results['Category'] = results['Cluster'].map(category_mapping)\n",
    "    \n",
    "    return results"
   ]
  },
  {
   "cell_type": "code",
   "execution_count": 10,
   "id": "769b6436",
   "metadata": {},
   "outputs": [
    {
     "name": "stderr",
     "output_type": "stream",
     "text": [
      "C:\\Users\\Nishi Kapadia\\anaconda3\\lib\\site-packages\\sklearn\\cluster\\_kmeans.py:870: FutureWarning: The default value of `n_init` will change from 10 to 'auto' in 1.4. Set the value of `n_init` explicitly to suppress the warning\n",
      "  warnings.warn(\n",
      "C:\\Users\\Nishi Kapadia\\anaconda3\\lib\\site-packages\\sklearn\\cluster\\_kmeans.py:1382: UserWarning: KMeans is known to have a memory leak on Windows with MKL, when there are less chunks than available threads. You can avoid it by setting the environment variable OMP_NUM_THREADS=11.\n",
      "  warnings.warn(\n"
     ]
    }
   ],
   "source": [
    "# define number of clusters\n",
    "num_clusters = 9\n",
    "\n",
    "# apply clustering and assign categories based on clusters\n",
    "clusters = apply_clustering(similarity_matrix, num_clusters)\n",
    "results = assign_categories(df['Text'], clusters)"
   ]
  },
  {
   "cell_type": "code",
   "execution_count": 16,
   "id": "2a2a60b2",
   "metadata": {},
   "outputs": [],
   "source": [
    "results.to_excel(\"label_on_text.xlsx\",index=False)"
   ]
  }
 ],
 "metadata": {
  "kernelspec": {
   "display_name": "Python 3 (ipykernel)",
   "language": "python",
   "name": "python3"
  },
  "language_info": {
   "codemirror_mode": {
    "name": "ipython",
    "version": 3
   },
   "file_extension": ".py",
   "mimetype": "text/x-python",
   "name": "python",
   "nbconvert_exporter": "python",
   "pygments_lexer": "ipython3",
   "version": "3.10.9"
  }
 },
 "nbformat": 4,
 "nbformat_minor": 5
}
