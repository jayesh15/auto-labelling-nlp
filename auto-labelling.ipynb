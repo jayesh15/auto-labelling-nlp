{
 "cells": [
  {
   "cell_type": "code",
   "execution_count": 1,
   "id": "37d7a218",
   "metadata": {},
   "outputs": [
    {
     "name": "stdout",
     "output_type": "stream",
     "text": [
      "WARNING:tensorflow:From C:\\Users\\Nishi Kapadia\\anaconda3\\lib\\site-packages\\keras\\src\\losses.py:2976: The name tf.losses.sparse_softmax_cross_entropy is deprecated. Please use tf.compat.v1.losses.sparse_softmax_cross_entropy instead.\n",
      "\n"
     ]
    }
   ],
   "source": [
    "import time\n",
    "import pandas as pd\n",
    "from transformers import pipeline"
   ]
  },
  {
   "cell_type": "code",
   "execution_count": 17,
   "id": "b9004396",
   "metadata": {},
   "outputs": [],
   "source": [
    "df = pd.read_excel(r'C:\\College\\sem6\\NLP\\project\\preprocessed_text.xlsx')\n",
    "texts = data['preprocessed_text']"
   ]
  },
  {
   "cell_type": "code",
   "execution_count": 3,
   "id": "8c677d5d",
   "metadata": {},
   "outputs": [],
   "source": [
    "# Define the categories\n",
    "categories = ['ham', 'promotional', 'educational', 'financial', 'job', 'account verification', 'shopping', 'rate experience', \n",
    "              'miscellaneous']"
   ]
  },
  {
   "cell_type": "code",
   "execution_count": 6,
   "id": "374e5dbe",
   "metadata": {},
   "outputs": [
    {
     "name": "stderr",
     "output_type": "stream",
     "text": [
      "Some weights of the model checkpoint at roberta-large-mnli were not used when initializing RobertaForSequenceClassification: ['roberta.pooler.dense.bias', 'roberta.pooler.dense.weight']\n",
      "- This IS expected if you are initializing RobertaForSequenceClassification from the checkpoint of a model trained on another task or with another architecture (e.g. initializing a BertForSequenceClassification model from a BertForPreTraining model).\n",
      "- This IS NOT expected if you are initializing RobertaForSequenceClassification from the checkpoint of a model that you expect to be exactly identical (initializing a BertForSequenceClassification model from a BertForSequenceClassification model).\n"
     ]
    }
   ],
   "source": [
    "# Initialize the zero-shot classification pipeline\n",
    "classifier = pipeline(\"zero-shot-classification\", model=\"MoritzLaurer/deberta-v3-large-zeroshot-v1.1-all-33\")"
   ]
  },
  {
   "cell_type": "code",
   "execution_count": null,
   "id": "23a7513d",
   "metadata": {},
   "outputs": [],
   "source": [
    "label = []\n",
    "score = []\n",
    "for text in texts:\n",
    "    \n",
    "    # start time\n",
    "    start_time = time.time()\n",
    "    \n",
    "    output = zeroshot_classifier(text, classes_verbalized, multi_label=False)\n",
    "    \n",
    "    # calculate the time taken\n",
    "    end_time = time.time()\n",
    "    time_taken = end_time - start_time\n",
    "    \n",
    "    # Get the index of the label with the highest score\n",
    "    max_score_index = output[\"scores\"].index(max(output[\"scores\"]))\n",
    "    max_score = output['scores'][max_score_index]\n",
    "    \n",
    "    # Get the label with the highest score\n",
    "    predicted_label = output[\"labels\"][max_score_index]\n",
    "    \n",
    "    label.append(predicted_label)\n",
    "    score.append(max_score)\n",
    "    \n",
    "    print(\"Time taken:\", time_taken)"
   ]
  },
  {
   "cell_type": "code",
   "execution_count": null,
   "id": "be58e491",
   "metadata": {},
   "outputs": [],
   "source": [
    "data['Label'] = label\n",
    "data['Score'] = score"
   ]
  }
 ],
 "metadata": {
  "kernelspec": {
   "display_name": "Python 3 (ipykernel)",
   "language": "python",
   "name": "python3"
  },
  "language_info": {
   "codemirror_mode": {
    "name": "ipython",
    "version": 3
   },
   "file_extension": ".py",
   "mimetype": "text/x-python",
   "name": "python",
   "nbconvert_exporter": "python",
   "pygments_lexer": "ipython3",
   "version": "3.10.9"
  }
 },
 "nbformat": 4,
 "nbformat_minor": 5
}
