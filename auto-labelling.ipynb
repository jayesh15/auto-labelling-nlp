{
 "cells": [
  {
   "cell_type": "code",
   "execution_count": 1,
   "id": "37d7a218",
   "metadata": {},
   "outputs": [
    {
     "name": "stdout",
     "output_type": "stream",
     "text": [
      "WARNING:tensorflow:From C:\\Users\\Nishi Kapadia\\anaconda3\\lib\\site-packages\\keras\\src\\losses.py:2976: The name tf.losses.sparse_softmax_cross_entropy is deprecated. Please use tf.compat.v1.losses.sparse_softmax_cross_entropy instead.\n",
      "\n"
     ]
    }
   ],
   "source": [
    "import time\n",
    "import pandas as pd\n",
    "from transformers import pipeline"
   ]
  },
  {
   "cell_type": "code",
   "execution_count": 2,
   "id": "23a7513d",
   "metadata": {},
   "outputs": [],
   "source": [
    "def add_label(classifier, texts, categories):\n",
    "    \n",
    "    # Initialize lists to store label and score\n",
    "    label = []\n",
    "    score = []\n",
    "    \n",
    "    for text in texts:\n",
    "\n",
    "        # start time\n",
    "        start_time = time.time()\n",
    "\n",
    "        output = classifier(text, categories, multi_label=False)\n",
    "\n",
    "        # calculate the time taken\n",
    "        end_time = time.time()\n",
    "        time_taken = end_time - start_time\n",
    "\n",
    "        # Get the index of the label with the highest score\n",
    "        max_score_index = output[\"scores\"].index(max(output[\"scores\"]))\n",
    "        max_score = output['scores'][max_score_index]\n",
    "\n",
    "        # Get the label with the highest score\n",
    "        predicted_label = output[\"labels\"][max_score_index]\n",
    "\n",
    "        label.append(predicted_label)\n",
    "        score.append(max_score)\n",
    "\n",
    "        print(\"Time taken:\", time_taken)\n",
    "    \n",
    "    return label,score"
   ]
  },
  {
   "cell_type": "code",
   "execution_count": 3,
   "id": "aa2f45d0",
   "metadata": {},
   "outputs": [],
   "source": [
    "def determine_labels(preprocessed_df):\n",
    "    \n",
    "    # Extract texts to process\n",
    "    texts = preprocessed_data['preprocessed_text']\n",
    "    \n",
    "    # Define the categories\n",
    "    categories = ['ham', 'promotional', 'educational', 'financial', 'job', 'account verification', 'shopping', \n",
    "                  'rate experience', 'miscellaneous']\n",
    "    \n",
    "    # Initialize the zero-shot classification pipeline\n",
    "    classifier = pipeline(\"zero-shot-classification\", model=\"MoritzLaurer/deberta-v3-large-zeroshot-v1.1-all-33\")\n",
    "    \n",
    "    # Add labels and score to text\n",
    "    label,score = add_label(classifier, texts, categories)\n",
    "    \n",
    "    preprocessed_df['Label'] = label\n",
    "    preprocessed_df['Score'] = score\n",
    "    \n",
    "    return preprocessed_df"
   ]
  },
  {
   "cell_type": "code",
   "execution_count": null,
   "id": "e00342db",
   "metadata": {},
   "outputs": [],
   "source": []
  }
 ],
 "metadata": {
  "kernelspec": {
   "display_name": "Python 3 (ipykernel)",
   "language": "python",
   "name": "python3"
  },
  "language_info": {
   "codemirror_mode": {
    "name": "ipython",
    "version": 3
   },
   "file_extension": ".py",
   "mimetype": "text/x-python",
   "name": "python",
   "nbconvert_exporter": "python",
   "pygments_lexer": "ipython3",
   "version": "3.10.9"
  }
 },
 "nbformat": 4,
 "nbformat_minor": 5
}
