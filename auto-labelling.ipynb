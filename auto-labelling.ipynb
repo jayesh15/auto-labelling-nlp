{
 "cells": [
  {
   "cell_type": "code",
   "execution_count": 10,
   "id": "fcda5062",
   "metadata": {},
   "outputs": [],
   "source": [
    "import pandas as pd\n",
    "from sklearn.feature_extraction.text import TfidfVectorizer\n",
    "from sklearn.cluster import DBSCAN"
   ]
  },
  {
   "cell_type": "code",
   "execution_count": 11,
   "id": "c76593c6",
   "metadata": {},
   "outputs": [],
   "source": [
    "# Sample data (replace this with your actual text data)\n",
    "data = pd.read_excel(r'C:\\College\\sem6\\NLP\\project\\preprocessed_text.xlsx')\n",
    "preprocessed_data = data['preprocessed_text']"
   ]
  },
  {
   "cell_type": "code",
   "execution_count": 12,
   "id": "792ef6e7",
   "metadata": {},
   "outputs": [],
   "source": [
    "# TF-IDF vectorization\n",
    "vectorizer = TfidfVectorizer()\n",
    "tfidf_matrix = vectorizer.fit_transform(preprocessed_data)"
   ]
  },
  {
   "cell_type": "code",
   "execution_count": 13,
   "id": "6d6c3bfb",
   "metadata": {},
   "outputs": [],
   "source": [
    "category_mapping = {0:'ham', 1:'promotional', 2:'educational', 3:'financial', 4:'job', 5:'account verification', \n",
    "                        6:'shopping', 7:'rate experience', 8:'miscellaneous'}"
   ]
  },
  {
   "cell_type": "code",
   "execution_count": 14,
   "id": "1b24445b",
   "metadata": {},
   "outputs": [],
   "source": [
    "# DBSCAN clustering\n",
    "dbscan = DBSCAN(eps=0.5, min_samples=2)\n",
    "cluster_labels = dbscan.fit_predict(tfidf_matrix)"
   ]
  },
  {
   "cell_type": "code",
   "execution_count": 15,
   "id": "5f904233",
   "metadata": {},
   "outputs": [],
   "source": [
    "# Assign cluster labels to the preprocessed data\n",
    "clustered_data = pd.DataFrame({'Text': preprocessed_data, 'Cluster': cluster_labels})"
   ]
  },
  {
   "cell_type": "code",
   "execution_count": 16,
   "id": "fa8018aa",
   "metadata": {},
   "outputs": [
    {
     "name": "stdout",
     "output_type": "stream",
     "text": [
      "                                                   Text  Cluster  \\\n",
      "0     In The Simpsons Movie release July 2007 name b...       -1   \n",
      "1     professional logo work company image start vis...       -1   \n",
      "2     get baby diaper bill pay year family could def...       -1   \n",
      "3     uuseful attache save medlcations 70 pharmsho f...       -1   \n",
      "4     model effort houston christian spring fall win...       -1   \n",
      "...                                                 ...      ...   \n",
      "2785  Get official ENGLAND poly ringtone colour flag...      145   \n",
      "2786  perfect logo charset koi 8 r thinking breathe ...        5   \n",
      "2787  save money get oem software need software pc v...       -1   \n",
      "2788                                          Dear Call       -1   \n",
      "2789  logo stationer website design much lt really h...        1   \n",
      "\n",
      "             Cluster_Label  \n",
      "0                      NaN  \n",
      "1                      NaN  \n",
      "2                      NaN  \n",
      "3                      NaN  \n",
      "4                      NaN  \n",
      "...                    ...  \n",
      "2785                   NaN  \n",
      "2786  account verification  \n",
      "2787                   NaN  \n",
      "2788                   NaN  \n",
      "2789           promotional  \n",
      "\n",
      "[2790 rows x 3 columns]\n"
     ]
    }
   ],
   "source": [
    "clustered_data['Cluster_Label'] = clustered_data['Cluster'].map(category_mapping)\n",
    "print(clustered_data)"
   ]
  },
  {
   "cell_type": "code",
   "execution_count": null,
   "id": "a2659e4e",
   "metadata": {},
   "outputs": [],
   "source": []
  }
 ],
 "metadata": {
  "kernelspec": {
   "display_name": "Python 3 (ipykernel)",
   "language": "python",
   "name": "python3"
  },
  "language_info": {
   "codemirror_mode": {
    "name": "ipython",
    "version": 3
   },
   "file_extension": ".py",
   "mimetype": "text/x-python",
   "name": "python",
   "nbconvert_exporter": "python",
   "pygments_lexer": "ipython3",
   "version": "3.10.9"
  }
 },
 "nbformat": 4,
 "nbformat_minor": 5
}
