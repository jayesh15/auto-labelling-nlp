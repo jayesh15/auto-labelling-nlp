{
 "cells": [
  {
   "cell_type": "code",
   "execution_count": 3,
   "id": "293756ba",
   "metadata": {},
   "outputs": [],
   "source": [
    "# Importing necessary libraries\n",
    "import pandas as pd\n",
    "import nltk\n",
    "import io\n",
    "import requests\n",
    "from nltk.corpus import stopwords\n",
    "from nltk.stem import WordNetLemmatizer\n",
    "import string"
   ]
  },
  {
   "cell_type": "code",
   "execution_count": 5,
   "id": "ab43c4b9",
   "metadata": {},
   "outputs": [],
   "source": [
    "# Downloading resources\n",
    "def download():\n",
    "    nltk.download('stopwords')\n",
    "    nltk.download('wordnet')"
   ]
  },
  {
   "cell_type": "code",
   "execution_count": 6,
   "id": "78079662",
   "metadata": {},
   "outputs": [],
   "source": [
    "def eda(df):\n",
    "    # Exploratory Data Analysis (EDA) begins\n",
    "    print(\"EDA\")\n",
    "    print(\"************\"*3)\n",
    "    # Printing DataFrame info\n",
    "    print(\"INFO\")\n",
    "    print(df.info)\n",
    "    print(\"-------------\"*3)\n",
    "    \n",
    "    # checking for missing values\n",
    "    print(\"NULL VALUES\")\n",
    "    print(df.isnull().sum())\n",
    "    print(\"-------------\"*3)\n",
    "    \n",
    "    # checking for duplicate values\n",
    "    print(\"DUPLICATE VALUES\")\n",
    "    print(\"number of duplicate values\")\n",
    "    num = df.duplicated().sum()\n",
    "    print(num)\n",
    "    # If duplicate values are found removing them\n",
    "    if num>0:\n",
    "        print(\"shape of df before dropping\")\n",
    "        print(df.shape)\n",
    "        df = df.drop_duplicates(keep='first')\n",
    "        print(\"shape of df before dropping\")\n",
    "        print(df.shape)"
   ]
  },
  {
   "cell_type": "code",
   "execution_count": 7,
   "id": "680f4e69",
   "metadata": {},
   "outputs": [],
   "source": [
    "def replace_words(df):\n",
    "    # replacing unnecessary letters/words\n",
    "    replace_list = [\" &lt;#&gt;\",\"Ã\",\"&gt;\",\"\\\\n\",\"\\\\t\",\"\\\\r\",\"â\",\"€\",\"™\",\"ð\",\"Ÿ\",\"ðŸ‘\",\"$\",\"â€™ll\",\"ƒ\",\"¢\",\"â€ƒ\",\"â€¢\",\"Â§\",\"§\",\"Â\",\"Ã¼\",\"Ã\",\"¼\",\"º\",\"œ\",\"˜\",\"£\",\"â€“\",\"â€œ\",\"&lt;#&gt;\",\"â€Œ\",\"ðŸŽ\",\"ð\",\"Ÿ\",\"Ž\",\"Í\",\"â€Œ ï»¿ Í\",\"ï»¿\",\"ðŸ”¨\",\"ðŸ¤©\",\"©\",\"¤\",\"±\",\"ðŸ˜±\",\"ðŸ˜±\",\" Í â€Œ ï»¿\",\"ÿ\",\"x = = x\",\"*\"]\n",
    "    for letter in replace_list:\n",
    "        df['Message'] = df['Message'].str.replace(letter, '')\n",
    "    return df"
   ]
  },
  {
   "cell_type": "code",
   "execution_count": 8,
   "id": "0b184135",
   "metadata": {},
   "outputs": [],
   "source": [
    "def replace_email_words(df):\n",
    "    email_replace_list = [\"Subject:\",\"cc:\"]\n",
    "    for letter in email_replace_list:\n",
    "        # Replacing each unnecessary words/letter with an empty string\n",
    "        df['Message'] = df['Message'].str.replace(letter, '')\n",
    "    return df"
   ]
  },
  {
   "cell_type": "code",
   "execution_count": 9,
   "id": "92acfc35",
   "metadata": {},
   "outputs": [],
   "source": [
    "def preprocessing_text(text):\n",
    "    # Initialize the WordNet Lemmatizer\n",
    "    lemmatizer = WordNetLemmatizer()\n",
    "    # Checking if the input text is a string\n",
    "    if isinstance(text, str):\n",
    "        # Tokenize the text into words\n",
    "        text = nltk.word_tokenize(text)\n",
    "\n",
    "        # Filtering out non-alphanumeric words\n",
    "        filtered_words = []\n",
    "        for word in text:\n",
    "            if word.isalnum():\n",
    "                filtered_words.append(word)\n",
    "\n",
    "        # Updating the 'text' variable with the filtered words\n",
    "        text = filtered_words[:]\n",
    "        \n",
    "        #Empty list for lemmatized word\n",
    "        lemmatized_words= []\n",
    "        for word, pos in nltk.pos_tag(text):\n",
    "            #Checking if the word is alphanumeric and not in stopwords or punctuation\n",
    "            if word.isalnum() and word not in stopwords.words('english') and word not in string.punctuation:\n",
    "                # Get the first letter of the POS tag and converting it to lower\n",
    "                pos = pos[0].lower()\n",
    "                # Consider only adjectives, nouns, and verbs for lemmatization\n",
    "                if pos in {'a', 'n', 'v'}:\n",
    "                    lemmatized_words.append(lemmatizer.lemmatize(word, pos))\n",
    "                else:\n",
    "                    # If not in a,n,v then append the original word\n",
    "                    lemmatized_words.append(word)\n",
    "\n",
    "        # Return the preprocessed text as a single string\n",
    "        return \" \".join(lemmatized_words)\n",
    "    else:\n",
    "        # Convert non-string types to string\n",
    "        return str(text)"
   ]
  },
  {
   "cell_type": "code",
   "execution_count": 10,
   "id": "48129fb7",
   "metadata": {},
   "outputs": [],
   "source": [
    "def preprocessing(df):\n",
    "    \n",
    "    # Calling the download() function\n",
    "    download()\n",
    "    \n",
    "    # performing EDA and basic preprocessing\n",
    "    eda(df)\n",
    "    df = replace_words(df)\n",
    "    df = replace_email_words(df)\n",
    "    \n",
    "    # preprocess text using lemmatisation\n",
    "    df['preprocessed_text'] = df['Message'].apply(lambda x: preprocessing_text(x))\n",
    "    \n",
    "    return df"
   ]
  }
 ],
 "metadata": {
  "kernelspec": {
   "display_name": "Python 3 (ipykernel)",
   "language": "python",
   "name": "python3"
  },
  "language_info": {
   "codemirror_mode": {
    "name": "ipython",
    "version": 3
   },
   "file_extension": ".py",
   "mimetype": "text/x-python",
   "name": "python",
   "nbconvert_exporter": "python",
   "pygments_lexer": "ipython3",
   "version": "3.9.17"
  }
 },
 "nbformat": 4,
 "nbformat_minor": 5
}
