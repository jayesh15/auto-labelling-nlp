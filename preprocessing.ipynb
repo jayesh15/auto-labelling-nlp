{
 "cells": [
  {
   "cell_type": "code",
   "execution_count": 1,
   "id": "f880bbe2",
   "metadata": {},
   "outputs": [],
   "source": [
    "import pandas as pd"
   ]
  },
  {
   "cell_type": "code",
   "execution_count": null,
   "id": "5f8091b3",
   "metadata": {},
   "outputs": [],
   "source": [
    "# read files for merge\n",
    "df1 = pd.read_excel(r\"C:\\Users\\karan\\Downloads\\Data - 01.xlsx\")\n",
    "df2 = pd.read_excel(r\"C:\\Users\\karan\\Downloads\\Data - 02.xlsx\")\n",
    "df3 = pd.read_excel(r\"C:\\Users\\karan\\Downloads\\Data - 03.xlsx\")\n",
    "df4 = pd.read_excel(r\"C:\\Users\\karan\\Downloads\\Data - 04.xlsx\")\n",
    "df5 = pd.read_excel(r\"C:\\Users\\karan\\Downloads\\Data - 05.xlsx\")"
   ]
  },
  {
   "cell_type": "code",
   "execution_count": null,
   "id": "797913aa",
   "metadata": {},
   "outputs": [],
   "source": [
    "df_merge = pd.concat([df1,df2,df3,df4,df5])\n",
    "df_merge.head()"
   ]
  },
  {
   "cell_type": "code",
   "execution_count": null,
   "id": "332a9f60",
   "metadata": {},
   "outputs": [],
   "source": [
    "df_merge.shape"
   ]
  },
  {
   "cell_type": "code",
   "execution_count": null,
   "id": "2b4490d0",
   "metadata": {},
   "outputs": [],
   "source": [
    "df_merge.info()"
   ]
  },
  {
   "cell_type": "code",
   "execution_count": null,
   "id": "eaf619b3",
   "metadata": {},
   "outputs": [],
   "source": [
    "# check for missing values and remove\n",
    "print(df_merge.isnull().sum())\n",
    "df_merge.dropna(inplace=True)"
   ]
  },
  {
   "cell_type": "code",
   "execution_count": null,
   "id": "1fd476c3",
   "metadata": {},
   "outputs": [],
   "source": [
    "# check for duplicate values and remove\n",
    "print(df_merge.duplicated().sum())\n",
    "df_merge = df_merge.drop_duplicates(keep='first')"
   ]
  },
  {
   "cell_type": "code",
   "execution_count": null,
   "id": "26c3439f",
   "metadata": {},
   "outputs": [],
   "source": [
    "df_merge.shape"
   ]
  }
 ],
 "metadata": {
  "kernelspec": {
   "display_name": "Python 3 (ipykernel)",
   "language": "python",
   "name": "python3"
  },
  "language_info": {
   "codemirror_mode": {
    "name": "ipython",
    "version": 3
   },
   "file_extension": ".py",
   "mimetype": "text/x-python",
   "name": "python",
   "nbconvert_exporter": "python",
   "pygments_lexer": "ipython3",
   "version": "3.10.9"
  }
 },
 "nbformat": 4,
 "nbformat_minor": 5
}
